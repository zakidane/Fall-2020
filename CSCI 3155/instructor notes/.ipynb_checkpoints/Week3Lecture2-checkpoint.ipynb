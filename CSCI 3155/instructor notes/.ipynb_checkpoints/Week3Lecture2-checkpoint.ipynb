{
 "cells": [
  {
   "cell_type": "markdown",
   "metadata": {},
   "source": [
    "* Case pattern matching further details\n",
    "* Parsing (out of syllabus)."
   ]
  },
  {
   "cell_type": "code",
   "execution_count": 1,
   "metadata": {},
   "outputs": [
    {
     "data": {
      "text/plain": [
       "defined \u001b[32mtrait\u001b[39m \u001b[36mMyList\u001b[39m\n",
       "defined \u001b[32mobject\u001b[39m \u001b[36mEmptyList\u001b[39m\n",
       "defined \u001b[32mclass\u001b[39m \u001b[36mCons\u001b[39m"
      ]
     },
     "execution_count": 1,
     "metadata": {},
     "output_type": "execute_result"
    }
   ],
   "source": [
    "sealed trait MyList\n",
    "case object EmptyList extends MyList\n",
    "case class Cons(j: Int, tail: MyList) extends MyList"
   ]
  },
  {
   "cell_type": "code",
   "execution_count": 3,
   "metadata": {},
   "outputs": [
    {
     "data": {
      "text/plain": [
       "\u001b[36mlst1\u001b[39m: \u001b[32mCons\u001b[39m = \u001b[33mCons\u001b[39m(\u001b[32m1\u001b[39m, \u001b[33mCons\u001b[39m(\u001b[32m3\u001b[39m, \u001b[33mCons\u001b[39m(\u001b[32m-5\u001b[39m, EmptyList)))\n",
       "\u001b[36mlst2\u001b[39m: \u001b[32mCons\u001b[39m = \u001b[33mCons\u001b[39m(\u001b[32m2\u001b[39m, \u001b[33mCons\u001b[39m(\u001b[32m4\u001b[39m, \u001b[33mCons\u001b[39m(\u001b[32m6\u001b[39m, \u001b[33mCons\u001b[39m(\u001b[32m8\u001b[39m, EmptyList))))"
      ]
     },
     "execution_count": 3,
     "metadata": {},
     "output_type": "execute_result"
    }
   ],
   "source": [
    "val lst1 = Cons(1, Cons(3, Cons(-5, EmptyList)))\n",
    "val lst2 = Cons(2, Cons(4, Cons(6, Cons(8, EmptyList))))"
   ]
  },
  {
   "cell_type": "code",
   "execution_count": 4,
   "metadata": {},
   "outputs": [
    {
     "data": {
      "text/plain": [
       "defined \u001b[32mfunction\u001b[39m \u001b[36maddOneToEveryEltInMyList\u001b[39m"
      ]
     },
     "execution_count": 4,
     "metadata": {},
     "output_type": "execute_result"
    }
   ],
   "source": [
    "def addOneToEveryEltInMyList(lst: MyList): MyList = {\n",
    "    lst match {\n",
    "        case EmptyList => { EmptyList }\n",
    "        case Cons(num, rest) => { \n",
    "            val restPlusOne = addOneToEveryEltInMyList(rest)\n",
    "            Cons(num+1, restPlusOne )\n",
    "        }\n",
    "    }\n",
    "}"
   ]
  },
  {
   "cell_type": "code",
   "execution_count": 5,
   "metadata": {},
   "outputs": [
    {
     "data": {
      "text/plain": [
       "defined \u001b[32mfunction\u001b[39m \u001b[36misMyListAscending\u001b[39m"
      ]
     },
     "execution_count": 5,
     "metadata": {},
     "output_type": "execute_result"
    }
   ],
   "source": [
    "// Is the list in ascending order.\n",
    "def isMyListAscending(lst: MyList): Boolean = {\n",
    "    lst match {\n",
    "        case EmptyList => { true }\n",
    "        case Cons(j, tail) => {\n",
    "            tail match {\n",
    "                case EmptyList => { // tail is the emptylist\n",
    "                    true\n",
    "                }\n",
    "                case Cons(k, tail2) => { \n",
    "                    if (k >= j) {\n",
    "                        isMyListAscending(tail) // Wrong to say tail2\n",
    "                    } else {\n",
    "                        false\n",
    "                    }\n",
    "                }\n",
    "                \n",
    "            } \n",
    "        }\n",
    "        \n",
    "    }\n",
    "}"
   ]
  },
  {
   "cell_type": "code",
   "execution_count": 10,
   "metadata": {},
   "outputs": [
    {
     "data": {
      "text/plain": [
       "defined \u001b[32mfunction\u001b[39m \u001b[36misMyListAscending\u001b[39m"
      ]
     },
     "execution_count": 10,
     "metadata": {},
     "output_type": "execute_result"
    }
   ],
   "source": [
    "def isMyListAscending(lst: MyList): Boolean = { \n",
    "        lst match {\n",
    "            case EmptyList => true \n",
    "            case Cons(j, EmptyList) => true\n",
    "            case Cons(j, tail@Cons(k, tail2) ) => { // label to a part of a match\n",
    "               // val tail = Cons(k, tail2) // reconstituting.. yuck!\n",
    "                j <= k && isMyListAscending(tail)\n",
    "            }\n",
    "            case _ => { throw new IllegalArgumentException(\"You caught me ... I give up\")}\n",
    "        } \n",
    "}"
   ]
  },
  {
   "cell_type": "code",
   "execution_count": 11,
   "metadata": {},
   "outputs": [
    {
     "data": {
      "text/plain": [
       "defined \u001b[32mfunction\u001b[39m \u001b[36misMyListAscending\u001b[39m"
      ]
     },
     "execution_count": 11,
     "metadata": {},
     "output_type": "execute_result"
    }
   ],
   "source": [
    "// Qualifications\n",
    "def isMyListAscending(lst: MyList): Boolean = { \n",
    "    lst match {\n",
    "        case EmptyList => true \n",
    "        case Cons(j, EmptyList) => true\n",
    "        case Cons(j, Cons(k, _ )) if j > k => false // return\n",
    "        case Cons(_, tail) => isMyListAscending(tail)\n",
    "        case _ => throw new IllegalArgumentException(\" I do not expect to ever get here - -no worries.\")\n",
    "    }\n",
    "}\n"
   ]
  },
  {
   "cell_type": "code",
   "execution_count": 13,
   "metadata": {},
   "outputs": [
    {
     "data": {
      "text/plain": [
       "defined \u001b[32mfunction\u001b[39m \u001b[36misAscending\u001b[39m"
      ]
     },
     "execution_count": 13,
     "metadata": {},
     "output_type": "execute_result"
    }
   ],
   "source": [
    "// Nil \n",
    "// Cons(j, rest) ~~> j :: rest infixed\n",
    "\n",
    "def isAscending(lst: List[Int]): Boolean = {\n",
    "    lst match {\n",
    "        case Nil => true\n",
    "        case _::Nil => true // One element list\n",
    "        case i::(j::_) if i > j => false\n",
    "        case _::rest => isAscending(rest)\n",
    "        case _ => { throw new IllegalArgumentException(\"blah^3\")}\n",
    "    }\n",
    "}"
   ]
  },
  {
   "cell_type": "code",
   "execution_count": 14,
   "metadata": {},
   "outputs": [
    {
     "data": {
      "text/plain": [
       "defined \u001b[32mfunction\u001b[39m \u001b[36misAscending\u001b[39m"
      ]
     },
     "execution_count": 14,
     "metadata": {},
     "output_type": "execute_result"
    }
   ],
   "source": [
    "def isAscending(lst: List[Int]): Boolean = {\n",
    "    lst match {\n",
    "        case Nil => true\n",
    "        case _::Nil => true // One element list\n",
    "        case i::(tail@(j::tail2))  => {\n",
    "            if (i > j) { false }\n",
    "            else { isAscending(tail)}\n",
    "        }\n",
    "        case _ => { throw new IllegalArgumentException(\"blah^3\")}\n",
    "    }\n",
    "}"
   ]
  },
  {
   "cell_type": "code",
   "execution_count": null,
   "metadata": {},
   "outputs": [],
   "source": []
  }
 ],
 "metadata": {
  "kernelspec": {
   "display_name": "Scala",
   "language": "scala",
   "name": "scala"
  },
  "language_info": {
   "codemirror_mode": "text/x-scala",
   "file_extension": ".sc",
   "mimetype": "text/x-scala",
   "name": "scala",
   "nbconvert_exporter": "script",
   "version": "2.13.3"
  }
 },
 "nbformat": 4,
 "nbformat_minor": 4
}

{
 "cells": [
  {
   "cell_type": "markdown",
   "metadata": {},
   "source": [
    "Fold Operation on Lists"
   ]
  },
  {
   "cell_type": "code",
   "execution_count": 1,
   "metadata": {},
   "outputs": [
    {
     "data": {
      "text/plain": [
       "defined \u001b[32mfunction\u001b[39m \u001b[36mreverseList\u001b[39m"
      ]
     },
     "execution_count": 1,
     "metadata": {},
     "output_type": "execute_result"
    }
   ],
   "source": [
    "def reverseList(lst:List[Int]): List[Int] = {\n",
    "    \n",
    "    lst.foldLeft[List[Int]] (Nil)( (acc, elt) => elt::acc )\n",
    "    \n",
    "}"
   ]
  },
  {
   "cell_type": "code",
   "execution_count": 2,
   "metadata": {},
   "outputs": [
    {
     "data": {
      "text/plain": [
       "\u001b[36mres1\u001b[39m: \u001b[32mList\u001b[39m[\u001b[32mInt\u001b[39m] = \u001b[33mList\u001b[39m(\u001b[32m8\u001b[39m, \u001b[32m7\u001b[39m, \u001b[32m6\u001b[39m, \u001b[32m2\u001b[39m, \u001b[32m1\u001b[39m, \u001b[32m2\u001b[39m)"
      ]
     },
     "execution_count": 2,
     "metadata": {},
     "output_type": "execute_result"
    }
   ],
   "source": [
    "reverseList(List(2,1,2,6,7,8))"
   ]
  },
  {
   "cell_type": "code",
   "execution_count": 3,
   "metadata": {},
   "outputs": [
    {
     "data": {
      "text/plain": [
       "defined \u001b[32mfunction\u001b[39m \u001b[36mflatten\u001b[39m"
      ]
     },
     "execution_count": 3,
     "metadata": {},
     "output_type": "execute_result"
    }
   ],
   "source": [
    "// Input: List( List(1,2), List(4,5), List(-2,-3,-1), List() )\n",
    "// Output: List(1, 2, 4, 5, -2, -3, -1)\n",
    "// flatten using fold\n",
    "// 1. What type of accumulator should we keep: List[Int]\n",
    "// 2. What is initial value of this accumulator: Nil\n",
    "// 3. What does the fun for fold need to do? ++ \n",
    "\n",
    "\n",
    "\n",
    "def flatten(inp: List[List[Int]]): List[Int] = {\n",
    "    //inp.foldLeft[List[Int]] (Nil) ((acc, elt) => (acc ++ elt))\n",
    "    \n",
    "    \n",
    "}"
   ]
  },
  {
   "cell_type": "code",
   "execution_count": 10,
   "metadata": {},
   "outputs": [
    {
     "data": {
      "text/plain": [
       "\u001b[36mlst1\u001b[39m: \u001b[32mList\u001b[39m[\u001b[32mInt\u001b[39m] = \u001b[33mList\u001b[39m(\u001b[32m1\u001b[39m, \u001b[32m2\u001b[39m, \u001b[32m3\u001b[39m, \u001b[32m4\u001b[39m)\n",
       "\u001b[36mlst2\u001b[39m: \u001b[32mList\u001b[39m[\u001b[32mString\u001b[39m] = \u001b[33mList\u001b[39m(\u001b[32m\"a\"\u001b[39m, \u001b[32m\"b\"\u001b[39m, \u001b[32m\"c\"\u001b[39m)\n",
       "\u001b[36mres9_2\u001b[39m: \u001b[32mList\u001b[39m[(\u001b[32mInt\u001b[39m, \u001b[32mString\u001b[39m)] = \u001b[33mList\u001b[39m((\u001b[32m1\u001b[39m, \u001b[32m\"a\"\u001b[39m), (\u001b[32m2\u001b[39m, \u001b[32m\"b\"\u001b[39m), (\u001b[32m3\u001b[39m, \u001b[32m\"c\"\u001b[39m))"
      ]
     },
     "execution_count": 10,
     "metadata": {},
     "output_type": "execute_result"
    }
   ],
   "source": [
    "val lst1= List(1,2,3,4)\n",
    "val lst2 = List(\"a\", \"b\", \"c\")\n",
    "lst1.zip(lst2)"
   ]
  },
  {
   "cell_type": "code",
   "execution_count": 11,
   "metadata": {},
   "outputs": [
    {
     "data": {
      "text/plain": [
       "defined \u001b[32mfunction\u001b[39m \u001b[36mupdateFunction\u001b[39m\n",
       "defined \u001b[32mfunction\u001b[39m \u001b[36mindexList\u001b[39m"
      ]
     },
     "execution_count": 11,
     "metadata": {},
     "output_type": "execute_result"
    }
   ],
   "source": [
    "// Index a list out.\n",
    "// List(1, 5, 6, 7, 8, 9, 11)\n",
    "// List ((1,1), (2, 5), (3, 6), (4,7), (5,8), (6, 9), (7,11))\n",
    "\n",
    "// 1. What type of accumulator should we keep: (Int, List[(Int,Int)])\n",
    "// 2. What is initial value of this accumulator: (1, Nil)\n",
    "// 3. What does the fun for fold need to do? ... \n",
    "         // increment the counter by 1, add an element with index to the end of the result list\n",
    "\n",
    "def updateFunction(acc: (Int, List[(Int, Int)]), elt: Int): (Int, List[(Int, Int)]) = {\n",
    "    val pos = acc._1\n",
    "    val curList = acc._2\n",
    "    (pos+1, curList++List((pos, elt)))\n",
    "} \n",
    "     \n",
    "def indexList(lst: List[Int]): List[(Int,Int)] = {\n",
    "    //val (_, finalList) = lst.foldLeft[(Int, List[(Int, Int)])] \n",
    "    //                                   ((1, Nil)) (updateFunction)\n",
    "    //finalList\n",
    "    val lst2 = (1 to lst.length).toList\n",
    "    lst2.zip(lst)\n",
    "}\n"
   ]
  },
  {
   "cell_type": "code",
   "execution_count": 12,
   "metadata": {},
   "outputs": [
    {
     "data": {
      "text/plain": [
       "\u001b[36mres11\u001b[39m: \u001b[32mList\u001b[39m[(\u001b[32mInt\u001b[39m, \u001b[32mInt\u001b[39m)] = \u001b[33mList\u001b[39m(\n",
       "  (\u001b[32m1\u001b[39m, \u001b[32m1\u001b[39m),\n",
       "  (\u001b[32m2\u001b[39m, \u001b[32m5\u001b[39m),\n",
       "  (\u001b[32m3\u001b[39m, \u001b[32m6\u001b[39m),\n",
       "  (\u001b[32m4\u001b[39m, \u001b[32m7\u001b[39m),\n",
       "  (\u001b[32m5\u001b[39m, \u001b[32m8\u001b[39m),\n",
       "  (\u001b[32m6\u001b[39m, \u001b[32m9\u001b[39m),\n",
       "  (\u001b[32m7\u001b[39m, \u001b[32m11\u001b[39m)\n",
       ")"
      ]
     },
     "execution_count": 12,
     "metadata": {},
     "output_type": "execute_result"
    }
   ],
   "source": [
    "indexList(List(1, 5, 6, 7, 8, 9, 11))"
   ]
  },
  {
   "cell_type": "code",
   "execution_count": 13,
   "metadata": {},
   "outputs": [
    {
     "ename": "",
     "evalue": "",
     "output_type": "error",
     "traceback": [
      "\u001b[31mjava.lang.ArithmeticException: / by zero\u001b[39m\n  ammonite.$sess.cmd12$Helper.<init>(\u001b[32mcmd12.sc\u001b[39m:\u001b[32m1\u001b[39m)\n  ammonite.$sess.cmd12$.<init>(\u001b[32mcmd12.sc\u001b[39m:\u001b[32m7\u001b[39m)\n  ammonite.$sess.cmd12$.<clinit>(\u001b[32mcmd12.sc\u001b[39m:\u001b[32m-1\u001b[39m)"
     ]
    }
   ],
   "source": [
    "// Writing an interpreter\n",
    "// Simple arithmetic expressions\n",
    "0 * (20/0)"
   ]
  },
  {
   "cell_type": "code",
   "execution_count": null,
   "metadata": {},
   "outputs": [],
   "source": []
  }
 ],
 "metadata": {
  "kernelspec": {
   "display_name": "Scala",
   "language": "scala",
   "name": "scala"
  },
  "language_info": {
   "codemirror_mode": "text/x-scala",
   "file_extension": ".sc",
   "mimetype": "text/x-scala",
   "name": "scala",
   "nbconvert_exporter": "script",
   "version": "2.13.3"
  }
 },
 "nbformat": 4,
 "nbformat_minor": 4
}

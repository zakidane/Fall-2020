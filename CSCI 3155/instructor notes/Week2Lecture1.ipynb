{
 "cells": [
  {
   "cell_type": "markdown",
   "metadata": {},
   "source": [
    "# Recursion"
   ]
  },
  {
   "cell_type": "code",
   "execution_count": 5,
   "metadata": {},
   "outputs": [
    {
     "data": {
      "text/plain": [
       "defined \u001b[32mfunction\u001b[39m \u001b[36mfactorial\u001b[39m"
      ]
     },
     "execution_count": 5,
     "metadata": {},
     "output_type": "execute_result"
    }
   ],
   "source": [
    "def factorial(n: Int): Int = {\n",
    "    assert(n >= 0)\n",
    "    if (n == 0){\n",
    "        1\n",
    "    } else {\n",
    "        n * factorial(n-1)\n",
    "    }\n",
    "}"
   ]
  },
  {
   "cell_type": "code",
   "execution_count": 2,
   "metadata": {},
   "outputs": [
    {
     "data": {
      "text/plain": [
       "\u001b[36mres1\u001b[39m: \u001b[32mInt\u001b[39m = \u001b[32m3628800\u001b[39m"
      ]
     },
     "execution_count": 2,
     "metadata": {},
     "output_type": "execute_result"
    }
   ],
   "source": [
    "factorial(10)"
   ]
  },
  {
   "cell_type": "code",
   "execution_count": 6,
   "metadata": {},
   "outputs": [
    {
     "data": {
      "text/plain": [
       "\u001b[36mres5\u001b[39m: \u001b[32mInt\u001b[39m = \u001b[32m0\u001b[39m"
      ]
     },
     "execution_count": 6,
     "metadata": {},
     "output_type": "execute_result"
    }
   ],
   "source": [
    "factorial(100)"
   ]
  },
  {
   "cell_type": "code",
   "execution_count": 7,
   "metadata": {},
   "outputs": [
    {
     "data": {
      "text/plain": [
       "defined \u001b[32mfunction\u001b[39m \u001b[36mfibonacci\u001b[39m"
      ]
     },
     "execution_count": 7,
     "metadata": {},
     "output_type": "execute_result"
    }
   ],
   "source": [
    "def fibonacci(n: Int): Int  = { /* Continuation passing style */\n",
    "    if (n <= 2) { 1 }\n",
    "    else {\n",
    "        fibonacci(n-1) + fibonacci(n-2)\n",
    "    }\n",
    "    \n",
    "}"
   ]
  },
  {
   "cell_type": "code",
   "execution_count": 8,
   "metadata": {},
   "outputs": [
    {
     "data": {
      "text/plain": [
       "\u001b[36mres7\u001b[39m: \u001b[32mInt\u001b[39m = \u001b[32m55\u001b[39m"
      ]
     },
     "execution_count": 8,
     "metadata": {},
     "output_type": "execute_result"
    }
   ],
   "source": [
    "fibonacci(10)"
   ]
  },
  {
   "cell_type": "code",
   "execution_count": 9,
   "metadata": {},
   "outputs": [
    {
     "ename": "",
     "evalue": "",
     "output_type": "error",
     "traceback": [
      "Interrupted!\n  ammonite.$sess.cmd6$Helper.fibonacci(\u001b[32mcmd6.sc\u001b[39m:\u001b[32m4\u001b[39m)\n  ammonite.$sess.cmd6$Helper.fibonacci(\u001b[32mcmd6.sc\u001b[39m:\u001b[32m4\u001b[39m)\n  ammonite.$sess.cmd6$Helper.fibonacci(\u001b[32mcmd6.sc\u001b[39m:\u001b[32m4\u001b[39m)\n  ammonite.$sess.cmd6$Helper.fibonacci(\u001b[32mcmd6.sc\u001b[39m:\u001b[32m4\u001b[39m)\n  ammonite.$sess.cmd6$Helper.fibonacci(\u001b[32mcmd6.sc\u001b[39m:\u001b[32m4\u001b[39m)\n  ammonite.$sess.cmd6$Helper.fibonacci(\u001b[32mcmd6.sc\u001b[39m:\u001b[32m4\u001b[39m)\n  ammonite.$sess.cmd6$Helper.fibonacci(\u001b[32mcmd6.sc\u001b[39m:\u001b[32m4\u001b[39m)\n  ammonite.$sess.cmd6$Helper.fibonacci(\u001b[32mcmd6.sc\u001b[39m:\u001b[32m4\u001b[39m)\n  ammonite.$sess.cmd6$Helper.fibonacci(\u001b[32mcmd6.sc\u001b[39m:\u001b[32m4\u001b[39m)\n  ammonite.$sess.cmd6$Helper.fibonacci(\u001b[32mcmd6.sc\u001b[39m:\u001b[32m4\u001b[39m)\n  ammonite.$sess.cmd6$Helper.fibonacci(\u001b[32mcmd6.sc\u001b[39m:\u001b[32m4\u001b[39m)\n  ammonite.$sess.cmd6$Helper.fibonacci(\u001b[32mcmd6.sc\u001b[39m:\u001b[32m4\u001b[39m)\n  ammonite.$sess.cmd6$Helper.fibonacci(\u001b[32mcmd6.sc\u001b[39m:\u001b[32m4\u001b[39m)\n  ammonite.$sess.cmd6$Helper.fibonacci(\u001b[32mcmd6.sc\u001b[39m:\u001b[32m4\u001b[39m)\n  ammonite.$sess.cmd6$Helper.fibonacci(\u001b[32mcmd6.sc\u001b[39m:\u001b[32m4\u001b[39m)\n  ammonite.$sess.cmd6$Helper.fibonacci(\u001b[32mcmd6.sc\u001b[39m:\u001b[32m4\u001b[39m)\n  ammonite.$sess.cmd6$Helper.fibonacci(\u001b[32mcmd6.sc\u001b[39m:\u001b[32m4\u001b[39m)\n  ammonite.$sess.cmd6$Helper.fibonacci(\u001b[32mcmd6.sc\u001b[39m:\u001b[32m4\u001b[39m)\n  ammonite.$sess.cmd6$Helper.fibonacci(\u001b[32mcmd6.sc\u001b[39m:\u001b[32m4\u001b[39m)\n  ammonite.$sess.cmd6$Helper.fibonacci(\u001b[32mcmd6.sc\u001b[39m:\u001b[32m4\u001b[39m)\n  ammonite.$sess.cmd6$Helper.fibonacci(\u001b[32mcmd6.sc\u001b[39m:\u001b[32m4\u001b[39m)\n  ammonite.$sess.cmd6$Helper.fibonacci(\u001b[32mcmd6.sc\u001b[39m:\u001b[32m4\u001b[39m)\n  ammonite.$sess.cmd6$Helper.fibonacci(\u001b[32mcmd6.sc\u001b[39m:\u001b[32m4\u001b[39m)\n  ammonite.$sess.cmd6$Helper.fibonacci(\u001b[32mcmd6.sc\u001b[39m:\u001b[32m4\u001b[39m)\n  ammonite.$sess.cmd6$Helper.fibonacci(\u001b[32mcmd6.sc\u001b[39m:\u001b[32m4\u001b[39m)\n  ammonite.$sess.cmd6$Helper.fibonacci(\u001b[32mcmd6.sc\u001b[39m:\u001b[32m4\u001b[39m)\n  ammonite.$sess.cmd6$Helper.fibonacci(\u001b[32mcmd6.sc\u001b[39m:\u001b[32m4\u001b[39m)\n  ammonite.$sess.cmd6$Helper.fibonacci(\u001b[32mcmd6.sc\u001b[39m:\u001b[32m4\u001b[39m)\n  ammonite.$sess.cmd6$Helper.fibonacci(\u001b[32mcmd6.sc\u001b[39m:\u001b[32m4\u001b[39m)\n  ammonite.$sess.cmd6$Helper.fibonacci(\u001b[32mcmd6.sc\u001b[39m:\u001b[32m4\u001b[39m)\n  ammonite.$sess.cmd6$Helper.fibonacci(\u001b[32mcmd6.sc\u001b[39m:\u001b[32m4\u001b[39m)\n  ammonite.$sess.cmd6$Helper.fibonacci(\u001b[32mcmd6.sc\u001b[39m:\u001b[32m4\u001b[39m)\n  ammonite.$sess.cmd6$Helper.fibonacci(\u001b[32mcmd6.sc\u001b[39m:\u001b[32m4\u001b[39m)\n  ammonite.$sess.cmd6$Helper.fibonacci(\u001b[32mcmd6.sc\u001b[39m:\u001b[32m4\u001b[39m)\n  ammonite.$sess.cmd6$Helper.fibonacci(\u001b[32mcmd6.sc\u001b[39m:\u001b[32m4\u001b[39m)\n  ammonite.$sess.cmd6$Helper.fibonacci(\u001b[32mcmd6.sc\u001b[39m:\u001b[32m4\u001b[39m)\n  ammonite.$sess.cmd6$Helper.fibonacci(\u001b[32mcmd6.sc\u001b[39m:\u001b[32m4\u001b[39m)\n  ammonite.$sess.cmd6$Helper.fibonacci(\u001b[32mcmd6.sc\u001b[39m:\u001b[32m4\u001b[39m)\n  ammonite.$sess.cmd6$Helper.fibonacci(\u001b[32mcmd6.sc\u001b[39m:\u001b[32m4\u001b[39m)\n  ammonite.$sess.cmd6$Helper.fibonacci(\u001b[32mcmd6.sc\u001b[39m:\u001b[32m4\u001b[39m)\n  ammonite.$sess.cmd6$Helper.fibonacci(\u001b[32mcmd6.sc\u001b[39m:\u001b[32m4\u001b[39m)\n  ammonite.$sess.cmd6$Helper.fibonacci(\u001b[32mcmd6.sc\u001b[39m:\u001b[32m4\u001b[39m)\n  ammonite.$sess.cmd6$Helper.fibonacci(\u001b[32mcmd6.sc\u001b[39m:\u001b[32m4\u001b[39m)\n  ammonite.$sess.cmd6$Helper.fibonacci(\u001b[32mcmd6.sc\u001b[39m:\u001b[32m4\u001b[39m)\n  ammonite.$sess.cmd6$Helper.fibonacci(\u001b[32mcmd6.sc\u001b[39m:\u001b[32m4\u001b[39m)\n  ammonite.$sess.cmd6$Helper.fibonacci(\u001b[32mcmd6.sc\u001b[39m:\u001b[32m4\u001b[39m)\n  ammonite.$sess.cmd6$Helper.fibonacci(\u001b[32mcmd6.sc\u001b[39m:\u001b[32m4\u001b[39m)\n  ammonite.$sess.cmd6$Helper.fibonacci(\u001b[32mcmd6.sc\u001b[39m:\u001b[32m4\u001b[39m)\n  ammonite.$sess.cmd6$Helper.fibonacci(\u001b[32mcmd6.sc\u001b[39m:\u001b[32m4\u001b[39m)\n  ammonite.$sess.cmd6$Helper.fibonacci(\u001b[32mcmd6.sc\u001b[39m:\u001b[32m4\u001b[39m)\n  ammonite.$sess.cmd6$Helper.fibonacci(\u001b[32mcmd6.sc\u001b[39m:\u001b[32m4\u001b[39m)\n  ammonite.$sess.cmd6$Helper.fibonacci(\u001b[32mcmd6.sc\u001b[39m:\u001b[32m4\u001b[39m)\n  ammonite.$sess.cmd6$Helper.fibonacci(\u001b[32mcmd6.sc\u001b[39m:\u001b[32m4\u001b[39m)\n  ammonite.$sess.cmd6$Helper.fibonacci(\u001b[32mcmd6.sc\u001b[39m:\u001b[32m4\u001b[39m)\n  ammonite.$sess.cmd6$Helper.fibonacci(\u001b[32mcmd6.sc\u001b[39m:\u001b[32m4\u001b[39m)\n  ammonite.$sess.cmd6$Helper.fibonacci(\u001b[32mcmd6.sc\u001b[39m:\u001b[32m4\u001b[39m)\n  ammonite.$sess.cmd6$Helper.fibonacci(\u001b[32mcmd6.sc\u001b[39m:\u001b[32m4\u001b[39m)\n  ammonite.$sess.cmd6$Helper.fibonacci(\u001b[32mcmd6.sc\u001b[39m:\u001b[32m4\u001b[39m)\n  ammonite.$sess.cmd6$Helper.fibonacci(\u001b[32mcmd6.sc\u001b[39m:\u001b[32m4\u001b[39m)\n  ammonite.$sess.cmd6$Helper.fibonacci(\u001b[32mcmd6.sc\u001b[39m:\u001b[32m4\u001b[39m)\n  ammonite.$sess.cmd6$Helper.fibonacci(\u001b[32mcmd6.sc\u001b[39m:\u001b[32m4\u001b[39m)\n  ammonite.$sess.cmd6$Helper.fibonacci(\u001b[32mcmd6.sc\u001b[39m:\u001b[32m4\u001b[39m)\n  ammonite.$sess.cmd6$Helper.fibonacci(\u001b[32mcmd6.sc\u001b[39m:\u001b[32m4\u001b[39m)\n  ammonite.$sess.cmd6$Helper.fibonacci(\u001b[32mcmd6.sc\u001b[39m:\u001b[32m4\u001b[39m)\n  ammonite.$sess.cmd6$Helper.fibonacci(\u001b[32mcmd6.sc\u001b[39m:\u001b[32m4\u001b[39m)\n  ammonite.$sess.cmd6$Helper.fibonacci(\u001b[32mcmd6.sc\u001b[39m:\u001b[32m4\u001b[39m)\n  ammonite.$sess.cmd6$Helper.fibonacci(\u001b[32mcmd6.sc\u001b[39m:\u001b[32m4\u001b[39m)\n  ammonite.$sess.cmd6$Helper.fibonacci(\u001b[32mcmd6.sc\u001b[39m:\u001b[32m4\u001b[39m)\n  ammonite.$sess.cmd6$Helper.fibonacci(\u001b[32mcmd6.sc\u001b[39m:\u001b[32m4\u001b[39m)\n  ammonite.$sess.cmd6$Helper.fibonacci(\u001b[32mcmd6.sc\u001b[39m:\u001b[32m4\u001b[39m)\n  ammonite.$sess.cmd6$Helper.fibonacci(\u001b[32mcmd6.sc\u001b[39m:\u001b[32m4\u001b[39m)\n  ammonite.$sess.cmd6$Helper.fibonacci(\u001b[32mcmd6.sc\u001b[39m:\u001b[32m4\u001b[39m)\n  ammonite.$sess.cmd6$Helper.fibonacci(\u001b[32mcmd6.sc\u001b[39m:\u001b[32m4\u001b[39m)\n  ammonite.$sess.cmd6$Helper.fibonacci(\u001b[32mcmd6.sc\u001b[39m:\u001b[32m4\u001b[39m)\n  ammonite.$sess.cmd6$Helper.fibonacci(\u001b[32mcmd6.sc\u001b[39m:\u001b[32m4\u001b[39m)\n  ammonite.$sess.cmd6$Helper.fibonacci(\u001b[32mcmd6.sc\u001b[39m:\u001b[32m4\u001b[39m)\n  ammonite.$sess.cmd6$Helper.fibonacci(\u001b[32mcmd6.sc\u001b[39m:\u001b[32m4\u001b[39m)\n  ammonite.$sess.cmd6$Helper.fibonacci(\u001b[32mcmd6.sc\u001b[39m:\u001b[32m4\u001b[39m)\n  ammonite.$sess.cmd6$Helper.fibonacci(\u001b[32mcmd6.sc\u001b[39m:\u001b[32m4\u001b[39m)\n  ammonite.$sess.cmd6$Helper.fibonacci(\u001b[32mcmd6.sc\u001b[39m:\u001b[32m4\u001b[39m)\n  ammonite.$sess.cmd6$Helper.fibonacci(\u001b[32mcmd6.sc\u001b[39m:\u001b[32m4\u001b[39m)\n  ammonite.$sess.cmd6$Helper.fibonacci(\u001b[32mcmd6.sc\u001b[39m:\u001b[32m4\u001b[39m)\n  ammonite.$sess.cmd6$Helper.fibonacci(\u001b[32mcmd6.sc\u001b[39m:\u001b[32m4\u001b[39m)\n  ammonite.$sess.cmd6$Helper.fibonacci(\u001b[32mcmd6.sc\u001b[39m:\u001b[32m4\u001b[39m)\n  ammonite.$sess.cmd6$Helper.fibonacci(\u001b[32mcmd6.sc\u001b[39m:\u001b[32m4\u001b[39m)\n  ammonite.$sess.cmd6$Helper.fibonacci(\u001b[32mcmd6.sc\u001b[39m:\u001b[32m4\u001b[39m)\n  ammonite.$sess.cmd8$Helper.<init>(\u001b[32mcmd8.sc\u001b[39m:\u001b[32m1\u001b[39m)\n  ammonite.$sess.cmd8$.<init>(\u001b[32mcmd8.sc\u001b[39m:\u001b[32m7\u001b[39m)\n  ammonite.$sess.cmd8$.<clinit>(\u001b[32mcmd8.sc\u001b[39m:\u001b[32m-1\u001b[39m)"
     ]
    }
   ],
   "source": [
    "fibonacci(100)"
   ]
  },
  {
   "cell_type": "code",
   "execution_count": 10,
   "metadata": {},
   "outputs": [
    {
     "data": {
      "text/plain": [
       "defined \u001b[32mfunction\u001b[39m \u001b[36mcollatz\u001b[39m"
      ]
     },
     "execution_count": 10,
     "metadata": {},
     "output_type": "execute_result"
    }
   ],
   "source": [
    "def collatz(n: Int): Int = {\n",
    "    println(s\"Calling Collatz: n = $n\")\n",
    "    if (n <= 1) { 1 }\n",
    "    else {\n",
    "        if (n % 2 == 1) {\n",
    "            collatz(3 * n + 1)\n",
    "        } else {\n",
    "            collatz(n/2)\n",
    "        }\n",
    "    }\n",
    "    \n",
    "}"
   ]
  },
  {
   "cell_type": "code",
   "execution_count": 11,
   "metadata": {},
   "outputs": [
    {
     "name": "stdout",
     "output_type": "stream",
     "text": [
      "Calling Collatz: n = 100\n",
      "Calling Collatz: n = 50\n",
      "Calling Collatz: n = 25\n",
      "Calling Collatz: n = 76\n",
      "Calling Collatz: n = 38\n",
      "Calling Collatz: n = 19\n",
      "Calling Collatz: n = 58\n",
      "Calling Collatz: n = 29\n",
      "Calling Collatz: n = 88\n",
      "Calling Collatz: n = 44\n",
      "Calling Collatz: n = 22\n",
      "Calling Collatz: n = 11\n",
      "Calling Collatz: n = 34\n",
      "Calling Collatz: n = 17\n",
      "Calling Collatz: n = 52\n",
      "Calling Collatz: n = 26\n",
      "Calling Collatz: n = 13\n",
      "Calling Collatz: n = 40\n",
      "Calling Collatz: n = 20\n",
      "Calling Collatz: n = 10\n",
      "Calling Collatz: n = 5\n",
      "Calling Collatz: n = 16\n",
      "Calling Collatz: n = 8\n",
      "Calling Collatz: n = 4\n",
      "Calling Collatz: n = 2\n",
      "Calling Collatz: n = 1\n"
     ]
    },
    {
     "data": {
      "text/plain": [
       "\u001b[36mres10\u001b[39m: \u001b[32mInt\u001b[39m = \u001b[32m1\u001b[39m"
      ]
     },
     "execution_count": 11,
     "metadata": {},
     "output_type": "execute_result"
    }
   ],
   "source": [
    "collatz(100)"
   ]
  },
  {
   "cell_type": "code",
   "execution_count": 12,
   "metadata": {},
   "outputs": [
    {
     "data": {
      "text/plain": [
       "defined \u001b[32mfunction\u001b[39m \u001b[36mfactTail\u001b[39m\n",
       "defined \u001b[32mfunction\u001b[39m \u001b[36mfactorial\u001b[39m"
      ]
     },
     "execution_count": 12,
     "metadata": {},
     "output_type": "execute_result"
    }
   ],
   "source": [
    "def factTail(n: Int, acc: Int): Int = {\n",
    "    if ( n <= 1) { acc }\n",
    "    else { \n",
    "        factTail(n-1, acc * n)\n",
    "    }\n",
    "}\n",
    "/* public facing function */\n",
    "def factorial(n: Int)= factTail(n, 1)"
   ]
  },
  {
   "cell_type": "code",
   "execution_count": 19,
   "metadata": {},
   "outputs": [
    {
     "data": {
      "text/plain": [
       "defined \u001b[32mfunction\u001b[39m \u001b[36mreverseString\u001b[39m"
      ]
     },
     "execution_count": 19,
     "metadata": {},
     "output_type": "execute_result"
    }
   ],
   "source": [
    "def reverseString(s: String, acc:String = \"\"): String = {\n",
    "    if (s.length <= 0) { acc  }\n",
    "    else {\n",
    "        val c = s(0) /* Store first char */\n",
    "        reverseString(s.substring(1), c + acc )\n",
    "       \n",
    "    }\n",
    "}"
   ]
  },
  {
   "cell_type": "code",
   "execution_count": 20,
   "metadata": {},
   "outputs": [
    {
     "data": {
      "text/plain": [
       "\u001b[36mres19\u001b[39m: \u001b[32mString\u001b[39m = \u001b[32m\"marirS\"\u001b[39m"
      ]
     },
     "execution_count": 20,
     "metadata": {},
     "output_type": "execute_result"
    }
   ],
   "source": [
    "reverseString(\"Sriram\")"
   ]
  },
  {
   "cell_type": "code",
   "execution_count": null,
   "metadata": {},
   "outputs": [],
   "source": []
  }
 ],
 "metadata": {
  "kernelspec": {
   "display_name": "Scala",
   "language": "scala",
   "name": "scala"
  },
  "language_info": {
   "codemirror_mode": "text/x-scala",
   "file_extension": ".scala",
   "mimetype": "text/x-scala",
   "name": "scala",
   "nbconvert_exporter": "script",
   "version": "2.12.10"
  }
 },
 "nbformat": 4,
 "nbformat_minor": 4
}

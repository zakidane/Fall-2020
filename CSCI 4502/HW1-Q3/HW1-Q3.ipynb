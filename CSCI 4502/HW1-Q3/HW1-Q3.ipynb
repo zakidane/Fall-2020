{
 "cells": [
  {
   "cell_type": "markdown",
   "metadata": {},
   "source": [
    "# Homework 1\n",
    "***\n",
    "**Name**: $Zaki Kidane$ \n",
    "***\n",
    "\n",
    "This assignment is due on Canvas by **09:30am on Thrusday September 10th**. Submit only this Jupyter notebook to Canvas.  Do not compress it using tar, rar, zip, etc. Your solutions to analysis questions should be done in Markdown directly below the associated question.  Remember that you are encouraged to discuss the problems with your instructors and classmates, but **you must write all code and solutions on your own**."
   ]
  },
  {
   "cell_type": "markdown",
   "metadata": {},
   "source": [
    "The rules to be followed for the assignment are:\n",
    "\n",
    "- Do **NOT** load or use any Python packages that are not available in Anaconda 3.6. \n",
    "- Some problems with code may be autograded.  If we provide a function or class API **do not** change it.\n",
    "- Do not change the location of the data or data directory.  Use only relative paths to access the data. "
   ]
  },
  {
   "cell_type": "code",
   "execution_count": 82,
   "metadata": {},
   "outputs": [],
   "source": [
    "import argparse\n",
    "import pandas as pd\n",
    "import numpy as np\n",
    "import pickle\n",
    "from pathlib import Path"
   ]
  },
  {
   "cell_type": "markdown",
   "metadata": {},
   "source": [
    "### Problem 1\n",
    "***\n",
    "\n",
    "The Function below should return the following attributes for the ith column: \n",
    "- Number of objects\n",
    "- The minimum value\n",
    "- The maximum value\n",
    "- The mean value\n",
    "- The standard deviation value\n",
    "- The Q1 value\n",
    "- The median value\n",
    "- The Q3 value\n",
    "- The IQR value\n",
    "\n",
    "Note:\n",
    "- Download the data file and store the file \"gt_2011.csv\" in the location \"data/dataset.csv\". Please maintain this as it would be necessary while grading.\n",
    "- Do not change the variable names of the returned values.\n",
    "- After calculating each of those values, assign them to the corresponding value that is being returned.\n",
    "- The ithAttribute value can range from 0 - 10"
   ]
  },
  {
   "cell_type": "code",
   "execution_count": 83,
   "metadata": {},
   "outputs": [],
   "source": [
    "def calculate( dataFile, col_num):\n",
    "    \"\"\"\n",
    "    Input Parameters:\n",
    "        dataFile: The dataset file.\n",
    "        ithAttre: The ith attribute for which the various properties must be calculated.\n",
    "\n",
    "    Default value of 0,infinity,-infinity are assigned to all the variables as required. \n",
    "    \"\"\"\n",
    "  \n",
    "\n",
    "    numObj, minValue, maxValue, mean, stdev, Q1, median, Q3, IQR = [0,\"inf\",\"-inf\",0,0,0,0,0,0]\n",
    "    \n",
    "    #YOUR TASK: Write code to assign the values to the respective variables.\n",
    "    df = pd.read_csv(dataFile)\n",
    "    col = df.iloc[:,col_num]\n",
    "    col_np = col.to_numpy()\n",
    "    print(\"length: \", col_np.size)\n",
    "    numObj = col_np.size\n",
    "    minValue = col_np.min()\n",
    "    print(\"min:\", minValue)\n",
    "    maxValue = col_np.max()\n",
    "    print(\"max: \", maxValue)\n",
    "    mean = col_np.mean()\n",
    "    print(\"mean: \", mean)\n",
    "    stdev = col_np.std()\n",
    "    print(\"stdev: \", stdev)\n",
    "    Q1 = np.quantile(col_np,.25)\n",
    "    print(\"Q1: \", Q1)\n",
    "    median = np.median(col_np)\n",
    "    print(\"Median: \", median)\n",
    "    Q3 = np.quantile(col_np,.75)\n",
    "    print(\"Q3: \", Q3)\n",
    "    return numObj, minValue, maxValue, mean, stdev, Q1, median, Q3, IQR"
   ]
  },
  {
   "cell_type": "markdown",
   "metadata": {},
   "source": [
    "### Here are the unit tests. You don't need to modify them. Simply execute the cell and observe the output."
   ]
  },
  {
   "cell_type": "code",
   "execution_count": 84,
   "metadata": {},
   "outputs": [
    {
     "name": "stderr",
     "output_type": "stream",
     "text": [
      "."
     ]
    },
    {
     "name": "stdout",
     "output_type": "stream",
     "text": [
      "length:  7411\n",
      "min: 34.493\n",
      "max:  100.17\n",
      "mean:  79.17498893536634\n",
      "stdev:  13.464989679021121\n",
      "Q1:  70.4285\n",
      "Median:  82.12899999999999\n",
      "Q3:  89.77799999999999\n"
     ]
    },
    {
     "name": "stderr",
     "output_type": "stream",
     "text": [
      "\n",
      "----------------------------------------------------------------------\n",
      "Ran 1 test in 0.028s\n",
      "\n",
      "OK\n"
     ]
    },
    {
     "data": {
      "text/plain": [
       "<unittest.runner.TextTestResult run=1 errors=0 failures=0>"
      ]
     },
     "execution_count": 84,
     "metadata": {},
     "output_type": "execute_result"
    }
   ],
   "source": [
    "import unittest\n",
    "\n",
    "class TestKnn(unittest.TestCase):\n",
    "    def setUp(self):\n",
    "        self.loc = \"data/dataset.csv\"\n",
    "        file = open('data/testing', 'rb')\n",
    "        self.data = pickle.load(file)\n",
    "        file.close()\n",
    "        \n",
    "    def test0(self):\n",
    "        \"\"\"\n",
    "        Test the label counter \n",
    "        \"\"\"\n",
    "        self.column = self.data[0]\n",
    "        result = calculate(self.loc,self.column)\n",
    "        self.assertEqual(result[0],self.data[1][0])\n",
    "        self.assertAlmostEqual(result[1],self.data[1][1], places = 1)\n",
    "        self.assertAlmostEqual(result[2],self.data[1][2], places = 1)\n",
    "        self.assertAlmostEqual(result[3],self.data[1][3], places = 1)\n",
    "        self.assertAlmostEqual(result[4],self.data[1][4], places = 1)\n",
    "        self.assertAlmostEqual(result[5],self.data[1][5], places = 1)\n",
    "        self.assertAlmostEqual(result[6],self.data[1][6], places = 1)\n",
    "   \n",
    "tests = TestKnn()\n",
    "tests_to_run = unittest.TestLoader().loadTestsFromModule(tests)\n",
    "unittest.TextTestRunner().run(tests_to_run)"
   ]
  },
  {
   "cell_type": "markdown",
   "metadata": {},
   "source": [
    "### [Part B] Scatter Plot. Use the cell below to add your code"
   ]
  },
  {
   "cell_type": "code",
   "execution_count": 90,
   "metadata": {
    "ExecuteTime": {
     "end_time": "2020-09-02T03:17:10.969897Z",
     "start_time": "2020-09-02T03:17:10.627909Z"
    }
   },
   "outputs": [
    {
     "data": {
      "image/png": "[encoded data removed]",
      "text/plain": [
       "<Figure size 432x288 with 1 Axes>"
      ]
     },
     "metadata": {
      "needs_background": "light"
     },
     "output_type": "display_data"
    }
   ],
   "source": [
    "import matplotlib.pyplot as plt\n",
    "\n",
    "df = pd.read_csv(\"data/dataset.csv\")\n",
    "col1 = df.iloc[:,0]\n",
    "col2 = df.iloc[:,2]\n",
    "x = col1.to_numpy()\n",
    "y = col2.to_numpy()\n",
    "plt.title('scatter plot')\n",
    "plt.xlabel('AT')\n",
    "plt.ylabel('AH')\n",
    "\n",
    "plt.scatter(x,y)\n",
    "plt.show()\n"
   ]
  },
  {
   "cell_type": "code",
   "execution_count": null,
   "metadata": {},
   "outputs": [],
   "source": []
  }
 ],
 "metadata": {
  "hide_input": false,
  "kernelspec": {
   "display_name": "Python 3",
   "language": "python",
   "name": "python3"
  },
  "language_info": {
   "codemirror_mode": {
    "name": "ipython",
    "version": 3
   },
   "file_extension": ".py",
   "mimetype": "text/x-python",
   "name": "python",
   "nbconvert_exporter": "python",
   "pygments_lexer": "ipython3",
   "version": "3.8.5"
  },
  "latex_envs": {
   "LaTeX_envs_menu_present": true,
   "autoclose": false,
   "autocomplete": true,
   "bibliofile": "biblio.bib",
   "cite_by": "apalike",
   "current_citInitial": 1,
   "eqLabelWithNumbers": true,
   "eqNumInitial": 1,
   "hotkeys": {
    "equation": "Ctrl-E",
    "itemize": "Ctrl-I"
   },
   "labels_anchors": false,
   "latex_user_defs": false,
   "report_style_numbering": false,
   "user_envs_cfg": false
  },
  "nbTranslate": {
   "displayLangs": [
    "*"
   ],
   "hotkey": "alt-t",
   "langInMainMenu": true,
   "sourceLang": "en",
   "targetLang": "fr",
   "useGoogleTranslate": true
  },
  "toc": {
   "base_numbering": 1,
   "nav_menu": {},
   "number_sections": true,
   "sideBar": true,
   "skip_h1_title": false,
   "title_cell": "Table of Contents",
   "title_sidebar": "Contents",
   "toc_cell": false,
   "toc_position": {},
   "toc_section_display": true,
   "toc_window_display": false
  },
  "varInspector": {
   "cols": {
    "lenName": 16,
    "lenType": 16,
    "lenVar": 40
   },
   "kernels_config": {
    "python": {
     "delete_cmd_postfix": "",
     "delete_cmd_prefix": "del ",
     "library": "var_list.py",
     "varRefreshCmd": "print(var_dic_list())"
    },
    "r": {
     "delete_cmd_postfix": ") ",
     "delete_cmd_prefix": "rm(",
     "library": "var_list.r",
     "varRefreshCmd": "cat(var_dic_list()) "
    }
   },
   "types_to_exclude": [
    "module",
    "function",
    "builtin_function_or_method",
    "instance",
    "_Feature"
   ],
   "window_display": false
  }
 },
 "nbformat": 4,
 "nbformat_minor": 4
}
